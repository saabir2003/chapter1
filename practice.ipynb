{
  "nbformat": 4,
  "nbformat_minor": 0,
  "metadata": {
    "colab": {
      "provenance": [],
      "toc_visible": true,
      "gpuType": "T4",
      "authorship_tag": "ABX9TyNWiYPkaVd177GAnBqPZKFm",
      "include_colab_link": true
    },
    "kernelspec": {
      "name": "python3",
      "display_name": "Python 3"
    },
    "language_info": {
      "name": "python"
    },
    "accelerator": "GPU"
  },
  "cells": [
    {
      "cell_type": "markdown",
      "metadata": {
        "id": "view-in-github",
        "colab_type": "text"
      },
      "source": [
        "<a href=\"https://colab.research.google.com/github/saabir2003/chapter1/blob/master/practice.ipynb\" target=\"_parent\"><img src=\"https://colab.research.google.com/assets/colab-badge.svg\" alt=\"Open In Colab\"/></a>"
      ]
    },
    {
      "cell_type": "code",
      "execution_count": null,
      "metadata": {
        "id": "yIAdpHc6cnTY"
      },
      "outputs": [],
      "source": [
        "import tensorflow as tf\n",
        "import numpy as np\n",
        "import matplotlib.pyplot as plt\n",
        "import pandas as pd\n",
        "import scipy as sci\n"
      ]
    },
    {
      "cell_type": "markdown",
      "source": [
        "#PART 1"
      ],
      "metadata": {
        "id": "o_h9Y6hfzfEO"
      }
    },
    {
      "cell_type": "code",
      "source": [
        "tensor=tf.Variable([1,2,3,4],dtype=\"int32\")\n",
        "tensor[0].assign(40)\n",
        "print(tf.rank(tensor))\n",
        "tensor=tf.random.shuffle(tensor)\n",
        "print(tensor)\n",
        "tensor1=tf.random.Generator.from_seed(42)\n",
        "tensor1=tensor1.normal(shape=(3,2,4))\n",
        "print(tensor1)\n",
        "reshape=tf.reshape(tensor1,(4,2,3))\n",
        "print(reshape)\n"
      ],
      "metadata": {
        "colab": {
          "base_uri": "https://localhost:8080/"
        },
        "id": "QWf5r28Oduv7",
        "outputId": "a9105220-e09a-45a8-a8ee-c4eb8f40de53"
      },
      "execution_count": null,
      "outputs": [
        {
          "output_type": "stream",
          "name": "stdout",
          "text": [
            "tf.Tensor(1, shape=(), dtype=int32)\n",
            "tf.Tensor([ 2 40  4  3], shape=(4,), dtype=int32)\n",
            "tf.Tensor(\n",
            "[[[-0.7565803  -0.06854702  0.07595026 -1.2573844 ]\n",
            "  [-0.23193765 -1.8107855   0.09988727 -0.50998646]]\n",
            "\n",
            " [[-0.7535806  -0.5716629   0.1480774  -0.23362991]\n",
            "  [-0.3522796   0.40621266 -1.0523509   1.2054597 ]]\n",
            "\n",
            " [[ 1.6874489  -0.44629744 -2.3410842   0.99009085]\n",
            "  [-0.08763231 -0.635568   -0.6161736  -1.9441465 ]]], shape=(3, 2, 4), dtype=float32)\n",
            "tf.Tensor(\n",
            "[[[-0.7565803  -0.06854702  0.07595026]\n",
            "  [-1.2573844  -0.23193765 -1.8107855 ]]\n",
            "\n",
            " [[ 0.09988727 -0.50998646 -0.7535806 ]\n",
            "  [-0.5716629   0.1480774  -0.23362991]]\n",
            "\n",
            " [[-0.3522796   0.40621266 -1.0523509 ]\n",
            "  [ 1.2054597   1.6874489  -0.44629744]]\n",
            "\n",
            " [[-2.3410842   0.99009085 -0.08763231]\n",
            "  [-0.635568   -0.6161736  -1.9441465 ]]], shape=(4, 2, 3), dtype=float32)\n"
          ]
        }
      ]
    },
    {
      "cell_type": "code",
      "source": [
        "zeros=tf.ones(shape=(2,3))\n",
        "print(zeros.numpy())\n",
        "ones=tf.zeros(shape=(3,4))\n",
        "ones.numpy()"
      ],
      "metadata": {
        "colab": {
          "base_uri": "https://localhost:8080/"
        },
        "id": "9ticP7BqfItV",
        "outputId": "ae0932c5-60dd-41e1-afb0-bfff5b5bdb4d"
      },
      "execution_count": null,
      "outputs": [
        {
          "output_type": "stream",
          "name": "stdout",
          "text": [
            "[[1. 1. 1.]\n",
            " [1. 1. 1.]]\n"
          ]
        },
        {
          "output_type": "execute_result",
          "data": {
            "text/plain": [
              "array([[0., 0., 0., 0.],\n",
              "       [0., 0., 0., 0.],\n",
              "       [0., 0., 0., 0.]], dtype=float32)"
            ]
          },
          "metadata": {},
          "execution_count": 3
        }
      ]
    },
    {
      "cell_type": "code",
      "source": [
        "#create an array usong numpy\n",
        "num1=np.arange(1,25,2)\n",
        "tnum1=tf.constant(num1,shape=(3,2,2),dtype=\"float16\")\n",
        "tnum1"
      ],
      "metadata": {
        "colab": {
          "base_uri": "https://localhost:8080/"
        },
        "id": "UNNOVS06jyM9",
        "outputId": "12a15fab-1d53-4367-8adc-bfd0dbe5e938"
      },
      "execution_count": null,
      "outputs": [
        {
          "output_type": "execute_result",
          "data": {
            "text/plain": [
              "<tf.Tensor: shape=(3, 2, 2), dtype=float16, numpy=\n",
              "array([[[ 1.,  3.],\n",
              "        [ 5.,  7.]],\n",
              "\n",
              "       [[ 9., 11.],\n",
              "        [13., 15.]],\n",
              "\n",
              "       [[17., 19.],\n",
              "        [21., 23.]]], dtype=float16)>"
            ]
          },
          "metadata": {},
          "execution_count": 4
        }
      ]
    },
    {
      "cell_type": "code",
      "source": [
        "#tf.expand_dims(tnum1,axis=-1)\n",
        "tnum1[...,tf.newaxis]\n",
        "print(tnum1)\n",
        "print(tnum1.ndim)\n",
        "tnum2=tf.squeeze(tnum1)\n",
        "print(tnum2)\n",
        "print(tnum2.ndim)"
      ],
      "metadata": {
        "colab": {
          "base_uri": "https://localhost:8080/"
        },
        "id": "UHdFqqepkC5a",
        "outputId": "c98319c0-a0b8-47d6-a0b5-f7d6a38ff93f"
      },
      "execution_count": null,
      "outputs": [
        {
          "output_type": "stream",
          "name": "stdout",
          "text": [
            "tf.Tensor(\n",
            "[[[ 1.  3.]\n",
            "  [ 5.  7.]]\n",
            "\n",
            " [[ 9. 11.]\n",
            "  [13. 15.]]\n",
            "\n",
            " [[17. 19.]\n",
            "  [21. 23.]]], shape=(3, 2, 2), dtype=float16)\n",
            "3\n",
            "tf.Tensor(\n",
            "[[[ 1.  3.]\n",
            "  [ 5.  7.]]\n",
            "\n",
            " [[ 9. 11.]\n",
            "  [13. 15.]]\n",
            "\n",
            " [[17. 19.]\n",
            "  [21. 23.]]], shape=(3, 2, 2), dtype=float16)\n",
            "3\n"
          ]
        }
      ]
    },
    {
      "cell_type": "code",
      "source": [
        "max1=tf.constant([[1,2,3],[4,5,6]],dtype=\"float32\")\n",
        "max2=tf.constant([[1,2],[3,4],[5,6]],dtype=\"float32\")\n",
        "print(max1@max2)\n",
        "tf.matmul(max1,max2)"
      ],
      "metadata": {
        "colab": {
          "base_uri": "https://localhost:8080/"
        },
        "id": "0bZS3N3ZlTZL",
        "outputId": "99496be8-867a-4370-e61c-0c89a109249f"
      },
      "execution_count": null,
      "outputs": [
        {
          "output_type": "stream",
          "name": "stdout",
          "text": [
            "tf.Tensor(\n",
            "[[22. 28.]\n",
            " [49. 64.]], shape=(2, 2), dtype=float32)\n"
          ]
        },
        {
          "output_type": "execute_result",
          "data": {
            "text/plain": [
              "<tf.Tensor: shape=(2, 2), dtype=float32, numpy=\n",
              "array([[22., 28.],\n",
              "       [49., 64.]], dtype=float32)>"
            ]
          },
          "metadata": {},
          "execution_count": 6
        }
      ]
    },
    {
      "cell_type": "code",
      "source": [
        "print(tf.reduce_min(tnum1).numpy())\n",
        "print(tf.reduce_max(tnum1).numpy())\n",
        "print(tf.reduce_mean(tnum1).numpy())\n",
        "print(tf.reduce_sum(tnum1).numpy())\n",
        "print(tf.argmax(tnum1))\n",
        "print(tf.argmin(tnum1))\n"
      ],
      "metadata": {
        "colab": {
          "base_uri": "https://localhost:8080/"
        },
        "id": "AKC-5GOUmz4b",
        "outputId": "0e47e8c9-732f-4c10-9a3c-3848200b5a6b"
      },
      "execution_count": null,
      "outputs": [
        {
          "output_type": "stream",
          "name": "stdout",
          "text": [
            "1.0\n",
            "23.0\n",
            "12.0\n",
            "144.0\n",
            "tf.Tensor(\n",
            "[[2 2]\n",
            " [2 2]], shape=(2, 2), dtype=int64)\n",
            "tf.Tensor(\n",
            "[[0 0]\n",
            " [0 0]], shape=(2, 2), dtype=int64)\n"
          ]
        }
      ]
    },
    {
      "cell_type": "code",
      "source": [
        "print(tnum1)\n",
        "tnum1=tf.squeeze(tnum1)\n",
        "print(tf.random.shuffle(tf.reshape(tnum1,shape=(3,4))))\n",
        "print(tf.argmax(tf.random.shuffle(tf.squeeze(tnum1))))"
      ],
      "metadata": {
        "colab": {
          "base_uri": "https://localhost:8080/"
        },
        "id": "OBO-B6YSpemc",
        "outputId": "18b5521c-1871-4152-c0cd-56815d97d814"
      },
      "execution_count": null,
      "outputs": [
        {
          "output_type": "stream",
          "name": "stdout",
          "text": [
            "tf.Tensor(\n",
            "[[[ 1.  3.]\n",
            "  [ 5.  7.]]\n",
            "\n",
            " [[ 9. 11.]\n",
            "  [13. 15.]]\n",
            "\n",
            " [[17. 19.]\n",
            "  [21. 23.]]], shape=(3, 2, 2), dtype=float16)\n",
            "tf.Tensor(\n",
            "[[ 9. 11. 13. 15.]\n",
            " [17. 19. 21. 23.]\n",
            " [ 1.  3.  5.  7.]], shape=(3, 4), dtype=float16)\n",
            "tf.Tensor(\n",
            "[[2 2]\n",
            " [2 2]], shape=(2, 2), dtype=int64)\n"
          ]
        }
      ]
    },
    {
      "cell_type": "code",
      "source": [
        "slist=[0,1,2,4]\n",
        "tf.one_hot(slist,depth=5,on_value=\"on\",off_value=\"off\")"
      ],
      "metadata": {
        "colab": {
          "base_uri": "https://localhost:8080/"
        },
        "id": "jnpX6NDFqk7Q",
        "outputId": "3416c2eb-a76d-4338-df18-9907e2c707a6"
      },
      "execution_count": null,
      "outputs": [
        {
          "output_type": "execute_result",
          "data": {
            "text/plain": [
              "<tf.Tensor: shape=(4, 5), dtype=string, numpy=\n",
              "array([[b'on', b'off', b'off', b'off', b'off'],\n",
              "       [b'off', b'on', b'off', b'off', b'off'],\n",
              "       [b'off', b'off', b'on', b'off', b'off'],\n",
              "       [b'off', b'off', b'off', b'off', b'on']], dtype=object)>"
            ]
          },
          "metadata": {},
          "execution_count": 9
        }
      ]
    },
    {
      "cell_type": "code",
      "source": [
        "print(tf.square(tnum1))\n",
        "print(tf.sqrt(tnum1))\n",
        "print(tf.math.log(tnum1))"
      ],
      "metadata": {
        "colab": {
          "base_uri": "https://localhost:8080/"
        },
        "id": "WEHSMvynuSrl",
        "outputId": "3208ceb2-c54a-47b7-afdc-1a2701f3f00d"
      },
      "execution_count": null,
      "outputs": [
        {
          "output_type": "stream",
          "name": "stdout",
          "text": [
            "tf.Tensor(\n",
            "[[[  1.   9.]\n",
            "  [ 25.  49.]]\n",
            "\n",
            " [[ 81. 121.]\n",
            "  [169. 225.]]\n",
            "\n",
            " [[289. 361.]\n",
            "  [441. 529.]]], shape=(3, 2, 2), dtype=float16)\n",
            "tf.Tensor(\n",
            "[[[1.    1.732]\n",
            "  [2.236 2.646]]\n",
            "\n",
            " [[3.    3.316]\n",
            "  [3.605 3.873]]\n",
            "\n",
            " [[4.125 4.36 ]\n",
            "  [4.582 4.797]]], shape=(3, 2, 2), dtype=float16)\n",
            "tf.Tensor(\n",
            "[[[0.    1.099]\n",
            "  [1.609 1.946]]\n",
            "\n",
            " [[2.197 2.398]\n",
            "  [2.564 2.709]]\n",
            "\n",
            " [[2.834 2.945]\n",
            "  [3.045 3.135]]], shape=(3, 2, 2), dtype=float16)\n"
          ]
        }
      ]
    },
    {
      "cell_type": "code",
      "source": [
        "tv=tf.Variable([1,2,3,4])\n",
        "tv[2].assign(20)\n",
        "tv.assign_add([10,10,10,10])"
      ],
      "metadata": {
        "colab": {
          "base_uri": "https://localhost:8080/"
        },
        "id": "9hIORzI-vcyZ",
        "outputId": "46af9d6e-5346-405e-c447-4792bf2d0668"
      },
      "execution_count": null,
      "outputs": [
        {
          "output_type": "execute_result",
          "data": {
            "text/plain": [
              "<tf.Variable 'UnreadVariable' shape=(4,) dtype=int32, numpy=array([11, 12, 30, 14], dtype=int32)>"
            ]
          },
          "metadata": {},
          "execution_count": 11
        }
      ]
    },
    {
      "cell_type": "code",
      "source": [
        "!nvidia-smi"
      ],
      "metadata": {
        "colab": {
          "base_uri": "https://localhost:8080/"
        },
        "id": "rZo4iesSv1z6",
        "outputId": "17838422-2f0c-4bc4-aac6-b54fb6641eb5"
      },
      "execution_count": null,
      "outputs": [
        {
          "output_type": "stream",
          "name": "stdout",
          "text": [
            "Sun Feb 11 06:00:39 2024       \n",
            "+---------------------------------------------------------------------------------------+\n",
            "| NVIDIA-SMI 535.104.05             Driver Version: 535.104.05   CUDA Version: 12.2     |\n",
            "|-----------------------------------------+----------------------+----------------------+\n",
            "| GPU  Name                 Persistence-M | Bus-Id        Disp.A | Volatile Uncorr. ECC |\n",
            "| Fan  Temp   Perf          Pwr:Usage/Cap |         Memory-Usage | GPU-Util  Compute M. |\n",
            "|                                         |                      |               MIG M. |\n",
            "|=========================================+======================+======================|\n",
            "|   0  Tesla T4                       Off | 00000000:00:04.0 Off |                    0 |\n",
            "| N/A   58C    P0              30W /  70W |    117MiB / 15360MiB |      0%      Default |\n",
            "|                                         |                      |                  N/A |\n",
            "+-----------------------------------------+----------------------+----------------------+\n",
            "                                                                                         \n",
            "+---------------------------------------------------------------------------------------+\n",
            "| Processes:                                                                            |\n",
            "|  GPU   GI   CI        PID   Type   Process name                            GPU Memory |\n",
            "|        ID   ID                                                             Usage      |\n",
            "|=======================================================================================|\n",
            "+---------------------------------------------------------------------------------------+\n"
          ]
        }
      ]
    },
    {
      "cell_type": "code",
      "source": [
        "print(tf.config.list_physical_devices(\"GPU\"))"
      ],
      "metadata": {
        "colab": {
          "base_uri": "https://localhost:8080/"
        },
        "id": "HPMVdPE-wIJb",
        "outputId": "bcd33de2-c740-44d6-d944-89215cd8e26a"
      },
      "execution_count": null,
      "outputs": [
        {
          "output_type": "stream",
          "name": "stdout",
          "text": [
            "[PhysicalDevice(name='/physical_device:GPU:0', device_type='GPU')]\n"
          ]
        }
      ]
    },
    {
      "cell_type": "code",
      "source": [],
      "metadata": {
        "id": "HIsGviEnwjMu"
      },
      "execution_count": null,
      "outputs": []
    },
    {
      "cell_type": "markdown",
      "source": [
        "# **PART** **2**"
      ],
      "metadata": {
        "id": "30wOqTs2zMXg"
      }
    },
    {
      "cell_type": "code",
      "source": [
        "import tensorflow as tf\n",
        "import matplotlib.pyplot as plt\n",
        "import numpy as np\n",
        "import pandas as pd"
      ],
      "metadata": {
        "id": "E_qbyt4GzacE"
      },
      "execution_count": null,
      "outputs": []
    },
    {
      "cell_type": "code",
      "source": [
        "x=np.array([1,2,3,4,5,6,7,8,9])\n",
        "y=np.array([11,22,33,44,55,66,77,88,99])\n",
        "plt.figure(figsize=(9,7))\n",
        "plt.scatter(x,y,c=\"b\",label=\"blue\")\n",
        "plt.legend()"
      ],
      "metadata": {
        "colab": {
          "base_uri": "https://localhost:8080/",
          "height": 616
        },
        "id": "RQbqM9jyC51e",
        "outputId": "a15ae476-12e9-400c-b933-11f018733a0d"
      },
      "execution_count": null,
      "outputs": [
        {
          "output_type": "execute_result",
          "data": {
            "text/plain": [
              "<matplotlib.legend.Legend at 0x7f1ebfd0d150>"
            ]
          },
          "metadata": {},
          "execution_count": 3
        },
        {
          "output_type": "display_data",
          "data": {
            "text/plain": [
              "<Figure size 900x700 with 1 Axes>"
            ],
            "image/png": "[encoded data removed]"
          },
          "metadata": {}
        }
      ]
    },
    {
      "cell_type": "code",
      "source": [
        "x=np.arange(-100,100,4)\n",
        "y=np.arange(-90,110,4)\n",
        "#!pip install scikit-learn\n",
        "#import scikit-learn\n",
        "from sklearn.model_selection import train_test_split\n"
      ],
      "metadata": {
        "id": "IBv_Wr7QDYx8"
      },
      "execution_count": null,
      "outputs": []
    },
    {
      "cell_type": "code",
      "source": [
        "x_train,x_test,y_train,y_test=train_test_split(x,y,test_size=0.2)"
      ],
      "metadata": {
        "id": "oIOe1dOjD4AK"
      },
      "execution_count": null,
      "outputs": []
    },
    {
      "cell_type": "code",
      "source": [
        "print(x_train)\n",
        "print(x_test)\n",
        "print(y_train)\n",
        "print(y_test)"
      ],
      "metadata": {
        "colab": {
          "base_uri": "https://localhost:8080/"
        },
        "id": "wBiyIlmnRnqL",
        "outputId": "f06c4d95-eedc-4f88-e430-74ed78d293cc"
      },
      "execution_count": null,
      "outputs": [
        {
          "output_type": "stream",
          "name": "stdout",
          "text": [
            "[  -8  -44   44  -60 -100  -92   48  -56   32  -16  -76  -20   68    8\n",
            "   84   -4  -84   80    0  -96  -36   12    4  -80  -24  -72  -48   36\n",
            "   92  -88  -52   52   60   88  -32   56  -28  -12   96  -68]\n",
            "[ 76  28 -64  16  72  64  24  40 -40  20]\n",
            "[  2 -34  54 -50 -90 -82  58 -46  42  -6 -66 -10  78  18  94   6 -74  90\n",
            "  10 -86 -26  22  14 -70 -14 -62 -38  46 102 -78 -42  62  70  98 -22  66\n",
            " -18  -2 106 -58]\n",
            "[ 86  38 -54  26  82  74  34  50 -30  30]\n"
          ]
        }
      ]
    },
    {
      "cell_type": "code",
      "source": [
        "tf.random.set_seed(42)\n",
        "\n",
        "model1=tf.keras.Sequential([\n",
        "    tf.keras.layers.Dense(6),\n",
        "    tf.keras.layers.Dense(3),\n",
        "    tf.keras.layers.Dense(1)\n",
        "])\n",
        "\n",
        "model1.compile(loss=tf.keras.losses.mae,\n",
        "              optimizer=tf.keras.optimizers.SGD(),\n",
        "              metrics=[\"mae\"])\n",
        "model1.fit(tf.expand_dims(x_train,axis=-1),y_train,epochs=80)"
      ],
      "metadata": {
        "colab": {
          "base_uri": "https://localhost:8080/"
        },
        "id": "r38hpvJkSl5D",
        "outputId": "420d5257-ed5c-4c78-c00a-400ac35353ad"
      },
      "execution_count": null,
      "outputs": [
        {
          "output_type": "stream",
          "name": "stdout",
          "text": [
            "Epoch 1/80\n",
            "2/2 [==============================] - 1s 20ms/step - loss: 65.0148 - mae: 65.0148\n",
            "Epoch 2/80\n",
            "2/2 [==============================] - 0s 12ms/step - loss: 43.6445 - mae: 43.6445\n",
            "Epoch 3/80\n",
            "2/2 [==============================] - 0s 11ms/step - loss: 26.2514 - mae: 26.2514\n",
            "Epoch 4/80\n",
            "2/2 [==============================] - 0s 13ms/step - loss: 47.2412 - mae: 47.2412\n",
            "Epoch 5/80\n",
            "2/2 [==============================] - 0s 9ms/step - loss: 37.0741 - mae: 37.0741\n",
            "Epoch 6/80\n",
            "2/2 [==============================] - 0s 13ms/step - loss: 29.1463 - mae: 29.1463\n",
            "Epoch 7/80\n",
            "2/2 [==============================] - 0s 12ms/step - loss: 43.0543 - mae: 43.0543\n",
            "Epoch 8/80\n",
            "2/2 [==============================] - 0s 12ms/step - loss: 26.2686 - mae: 26.2686\n",
            "Epoch 9/80\n",
            "2/2 [==============================] - 0s 10ms/step - loss: 40.8368 - mae: 40.8368\n",
            "Epoch 10/80\n",
            "2/2 [==============================] - 0s 13ms/step - loss: 23.9947 - mae: 23.9947\n",
            "Epoch 11/80\n",
            "2/2 [==============================] - 0s 16ms/step - loss: 48.9898 - mae: 48.9898\n",
            "Epoch 12/80\n",
            "2/2 [==============================] - 0s 19ms/step - loss: 46.9926 - mae: 46.9926\n",
            "Epoch 13/80\n",
            "2/2 [==============================] - 0s 12ms/step - loss: 38.2820 - mae: 38.2820\n",
            "Epoch 14/80\n",
            "2/2 [==============================] - 0s 12ms/step - loss: 10.3983 - mae: 10.3983\n",
            "Epoch 15/80\n",
            "2/2 [==============================] - 0s 9ms/step - loss: 36.1965 - mae: 36.1965\n",
            "Epoch 16/80\n",
            "2/2 [==============================] - 0s 9ms/step - loss: 35.2645 - mae: 35.2645\n",
            "Epoch 17/80\n",
            "2/2 [==============================] - 0s 9ms/step - loss: 36.1097 - mae: 36.1097\n",
            "Epoch 18/80\n",
            "2/2 [==============================] - 0s 9ms/step - loss: 36.8647 - mae: 36.8647\n",
            "Epoch 19/80\n",
            "2/2 [==============================] - 0s 13ms/step - loss: 22.9665 - mae: 22.9665\n",
            "Epoch 20/80\n",
            "2/2 [==============================] - 0s 14ms/step - loss: 40.0332 - mae: 40.0332\n",
            "Epoch 21/80\n",
            "2/2 [==============================] - 0s 15ms/step - loss: 9.5367 - mae: 9.5367\n",
            "Epoch 22/80\n",
            "2/2 [==============================] - 0s 14ms/step - loss: 38.6239 - mae: 38.6239\n",
            "Epoch 23/80\n",
            "2/2 [==============================] - 0s 10ms/step - loss: 10.3506 - mae: 10.3506\n",
            "Epoch 24/80\n",
            "2/2 [==============================] - 0s 12ms/step - loss: 28.1748 - mae: 28.1748\n",
            "Epoch 25/80\n",
            "2/2 [==============================] - 0s 11ms/step - loss: 28.6703 - mae: 28.6703\n",
            "Epoch 26/80\n",
            "2/2 [==============================] - 0s 37ms/step - loss: 89.2684 - mae: 89.2684\n",
            "Epoch 27/80\n",
            "2/2 [==============================] - 0s 20ms/step - loss: 40.6434 - mae: 40.6434\n",
            "Epoch 28/80\n",
            "2/2 [==============================] - 0s 10ms/step - loss: 14.9858 - mae: 14.9858\n",
            "Epoch 29/80\n",
            "2/2 [==============================] - 0s 11ms/step - loss: 46.7759 - mae: 46.7759\n",
            "Epoch 30/80\n",
            "2/2 [==============================] - 0s 12ms/step - loss: 38.0031 - mae: 38.0031\n",
            "Epoch 31/80\n",
            "2/2 [==============================] - 0s 13ms/step - loss: 12.0310 - mae: 12.0310\n",
            "Epoch 32/80\n",
            "2/2 [==============================] - 0s 11ms/step - loss: 55.5789 - mae: 55.5789\n",
            "Epoch 33/80\n",
            "2/2 [==============================] - 0s 10ms/step - loss: 47.3257 - mae: 47.3257\n",
            "Epoch 34/80\n",
            "2/2 [==============================] - 0s 10ms/step - loss: 39.9526 - mae: 39.9526\n",
            "Epoch 35/80\n",
            "2/2 [==============================] - 0s 11ms/step - loss: 9.5863 - mae: 9.5863\n",
            "Epoch 36/80\n",
            "2/2 [==============================] - 0s 13ms/step - loss: 54.1633 - mae: 54.1633\n",
            "Epoch 37/80\n",
            "2/2 [==============================] - 0s 11ms/step - loss: 36.4439 - mae: 36.4439\n",
            "Epoch 38/80\n",
            "2/2 [==============================] - 0s 10ms/step - loss: 20.2581 - mae: 20.2581\n",
            "Epoch 39/80\n",
            "2/2 [==============================] - 0s 15ms/step - loss: 33.6564 - mae: 33.6564\n",
            "Epoch 40/80\n",
            "2/2 [==============================] - 0s 12ms/step - loss: 17.7028 - mae: 17.7028\n",
            "Epoch 41/80\n",
            "2/2 [==============================] - 0s 11ms/step - loss: 26.1491 - mae: 26.1491\n",
            "Epoch 42/80\n",
            "2/2 [==============================] - 0s 13ms/step - loss: 60.8666 - mae: 60.8666\n",
            "Epoch 43/80\n",
            "2/2 [==============================] - 0s 11ms/step - loss: 31.8540 - mae: 31.8540\n",
            "Epoch 44/80\n",
            "2/2 [==============================] - 0s 11ms/step - loss: 55.1605 - mae: 55.1605\n",
            "Epoch 45/80\n",
            "2/2 [==============================] - 0s 11ms/step - loss: 41.7776 - mae: 41.7776\n",
            "Epoch 46/80\n",
            "2/2 [==============================] - 0s 10ms/step - loss: 22.5680 - mae: 22.5680\n",
            "Epoch 47/80\n",
            "2/2 [==============================] - 0s 11ms/step - loss: 45.2343 - mae: 45.2343\n",
            "Epoch 48/80\n",
            "2/2 [==============================] - 0s 11ms/step - loss: 30.4627 - mae: 30.4627\n",
            "Epoch 49/80\n",
            "2/2 [==============================] - 0s 7ms/step - loss: 54.2567 - mae: 54.2567\n",
            "Epoch 50/80\n",
            "2/2 [==============================] - 0s 7ms/step - loss: 40.0921 - mae: 40.0921\n",
            "Epoch 51/80\n",
            "2/2 [==============================] - 0s 7ms/step - loss: 9.7463 - mae: 9.7463\n",
            "Epoch 52/80\n",
            "2/2 [==============================] - 0s 7ms/step - loss: 41.4983 - mae: 41.4983\n",
            "Epoch 53/80\n",
            "2/2 [==============================] - 0s 7ms/step - loss: 23.3129 - mae: 23.3129\n",
            "Epoch 54/80\n",
            "2/2 [==============================] - 0s 7ms/step - loss: 44.6051 - mae: 44.6051\n",
            "Epoch 55/80\n",
            "2/2 [==============================] - 0s 9ms/step - loss: 25.0350 - mae: 25.0350\n",
            "Epoch 56/80\n",
            "2/2 [==============================] - 0s 9ms/step - loss: 15.8473 - mae: 15.8473\n",
            "Epoch 57/80\n",
            "2/2 [==============================] - 0s 7ms/step - loss: 23.8210 - mae: 23.8210\n",
            "Epoch 58/80\n",
            "2/2 [==============================] - 0s 7ms/step - loss: 44.1680 - mae: 44.1680\n",
            "Epoch 59/80\n",
            "2/2 [==============================] - 0s 7ms/step - loss: 23.0130 - mae: 23.0130\n",
            "Epoch 60/80\n",
            "2/2 [==============================] - 0s 8ms/step - loss: 37.8060 - mae: 37.8060\n",
            "Epoch 61/80\n",
            "2/2 [==============================] - 0s 7ms/step - loss: 13.0902 - mae: 13.0902\n",
            "Epoch 62/80\n",
            "2/2 [==============================] - 0s 8ms/step - loss: 63.9724 - mae: 63.9724\n",
            "Epoch 63/80\n",
            "2/2 [==============================] - 0s 9ms/step - loss: 38.9463 - mae: 38.9463\n",
            "Epoch 64/80\n",
            "2/2 [==============================] - 0s 7ms/step - loss: 11.1624 - mae: 11.1624\n",
            "Epoch 65/80\n",
            "2/2 [==============================] - 0s 7ms/step - loss: 42.2905 - mae: 42.2905\n",
            "Epoch 66/80\n",
            "2/2 [==============================] - 0s 7ms/step - loss: 40.4771 - mae: 40.4771\n",
            "Epoch 67/80\n",
            "2/2 [==============================] - 0s 7ms/step - loss: 22.1081 - mae: 22.1081\n",
            "Epoch 68/80\n",
            "2/2 [==============================] - 0s 7ms/step - loss: 38.9523 - mae: 38.9523\n",
            "Epoch 69/80\n",
            "2/2 [==============================] - 0s 8ms/step - loss: 11.0761 - mae: 11.0761\n",
            "Epoch 70/80\n",
            "2/2 [==============================] - 0s 8ms/step - loss: 44.9647 - mae: 44.9647\n",
            "Epoch 71/80\n",
            "2/2 [==============================] - 0s 7ms/step - loss: 34.2898 - mae: 34.2898\n",
            "Epoch 72/80\n",
            "2/2 [==============================] - 0s 7ms/step - loss: 36.7390 - mae: 36.7390\n",
            "Epoch 73/80\n",
            "2/2 [==============================] - 0s 8ms/step - loss: 34.9429 - mae: 34.9429\n",
            "Epoch 74/80\n",
            "2/2 [==============================] - 0s 7ms/step - loss: 20.4922 - mae: 20.4922\n",
            "Epoch 75/80\n",
            "2/2 [==============================] - 0s 7ms/step - loss: 32.8422 - mae: 32.8422\n",
            "Epoch 76/80\n",
            "2/2 [==============================] - 0s 7ms/step - loss: 51.5470 - mae: 51.5470\n",
            "Epoch 77/80\n",
            "2/2 [==============================] - 0s 7ms/step - loss: 37.7925 - mae: 37.7925\n",
            "Epoch 78/80\n",
            "2/2 [==============================] - 0s 7ms/step - loss: 10.2862 - mae: 10.2862\n",
            "Epoch 79/80\n",
            "2/2 [==============================] - 0s 7ms/step - loss: 36.6605 - mae: 36.6605\n",
            "Epoch 80/80\n",
            "2/2 [==============================] - 0s 7ms/step - loss: 26.8267 - mae: 26.8267\n"
          ]
        },
        {
          "output_type": "execute_result",
          "data": {
            "text/plain": [
              "<keras.src.callbacks.History at 0x7f1eb4c06a10>"
            ]
          },
          "metadata": {},
          "execution_count": 37
        }
      ]
    },
    {
      "cell_type": "code",
      "source": [
        "print(model1.predict(x_test))\n",
        "print(y_test)"
      ],
      "metadata": {
        "colab": {
          "base_uri": "https://localhost:8080/"
        },
        "id": "DFsrRQC-UCCc",
        "outputId": "5455be6e-ac2e-4aa6-f625-d54696ce3515"
      },
      "execution_count": null,
      "outputs": [
        {
          "output_type": "stream",
          "name": "stderr",
          "text": [
            "WARNING:tensorflow:6 out of the last 9 calls to <function Model.make_predict_function.<locals>.predict_function at 0x7f1eb4bf4dc0> triggered tf.function retracing. Tracing is expensive and the excessive number of tracings could be due to (1) creating @tf.function repeatedly in a loop, (2) passing tensors with different shapes, (3) passing Python objects instead of tensors. For (1), please define your @tf.function outside of the loop. For (2), @tf.function has reduce_retracing=True option that can avoid unnecessary retracing. For (3), please refer to https://www.tensorflow.org/guide/function#controlling_retracing and https://www.tensorflow.org/api_docs/python/tf/function for  more details.\n"
          ]
        },
        {
          "output_type": "stream",
          "name": "stdout",
          "text": [
            "1/1 [==============================] - 0s 61ms/step\n",
            "[[ 36.416584]\n",
            " [ 13.917352]\n",
            " [-29.206179]\n",
            " [  8.292542]\n",
            " [ 34.541645]\n",
            " [ 30.791777]\n",
            " [ 12.042415]\n",
            " [ 19.542158]\n",
            " [-17.956564]\n",
            " [ 10.167479]]\n",
            "[ 86  38 -54  26  82  74  34  50 -30  30]\n"
          ]
        }
      ]
    },
    {
      "cell_type": "code",
      "source": [],
      "metadata": {
        "id": "Gb0t3GsjUHEd"
      },
      "execution_count": null,
      "outputs": []
    }
  ]
}